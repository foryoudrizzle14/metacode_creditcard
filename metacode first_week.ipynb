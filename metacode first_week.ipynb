{
  "nbformat": 4,
  "nbformat_minor": 0,
  "metadata": {
    "colab": {
      "provenance": [],
      "authorship_tag": "ABX9TyMLPJpNKHYeQONP3wlKcgNt",
      "include_colab_link": true
    },
    "kernelspec": {
      "name": "python3",
      "display_name": "Python 3"
    },
    "language_info": {
      "name": "python"
    }
  },
  "cells": [
    {
      "cell_type": "markdown",
      "metadata": {
        "id": "view-in-github",
        "colab_type": "text"
      },
      "source": [
        "<a href=\"https://colab.research.google.com/github/foryoudrizzle14/metacode_creditcard/blob/main/metacode%20first_week.ipynb\" target=\"_parent\"><img src=\"https://colab.research.google.com/assets/colab-badge.svg\" alt=\"Open In Colab\"/></a>"
      ]
    },
    {
      "cell_type": "code",
      "execution_count": 1,
      "metadata": {
        "colab": {
          "base_uri": "https://localhost:8080/"
        },
        "id": "rFzDDdkO4dIo",
        "outputId": "08f5984e-1024-4f27-878e-5d0e82615039"
      },
      "outputs": [
        {
          "output_type": "stream",
          "name": "stdout",
          "text": [
            "2.15.0\n"
          ]
        }
      ],
      "source": [
        "import tensorflow as tf\n",
        "print (tf.__version__)"
      ]
    },
    {
      "cell_type": "code",
      "source": [
        "#(1) DATA\n",
        "X=[1,2,3]\n",
        "Y=[1,2,3]"
      ],
      "metadata": {
        "id": "Dp7ysydo4rvM"
      },
      "execution_count": 24,
      "outputs": []
    },
    {
      "cell_type": "code",
      "source": [
        "#(2) hypothesis\n",
        "W = tf.Variable(tf.random.normal([1]), name='weight') # Initialize the weight W to a random normal distribution value\n",
        "b = tf.Variable(tf.random.normal([1]), name='bias')   # Initialize the bias b to a random normal distribution value"
      ],
      "metadata": {
        "id": "yqoAj_Ms7frx"
      },
      "execution_count": 25,
      "outputs": []
    },
    {
      "cell_type": "code",
      "source": [
        "def hypothesis(x):\n",
        "  return W * x + b # 선형 회귀 모델의 가설 함수: y = Wx + b"
      ],
      "metadata": {
        "id": "mv3FIsNV7iQK"
      },
      "execution_count": 26,
      "outputs": []
    },
    {
      "cell_type": "code",
      "source": [
        "def cost_fn(y_pred, y_true):\n",
        "  return tf.reduce_mean(tf.square(y_pred - y_true))# 예측값과 실제값의 차이를 제곱하여 평균을 계산"
      ],
      "metadata": {
        "id": "Lhz1zOAE7k4a"
      },
      "execution_count": 27,
      "outputs": []
    },
    {
      "cell_type": "code",
      "source": [
        "optimizer = tf.optimizers.SGD(learning_rate = 0.01)"
      ],
      "metadata": {
        "id": "7phPQGkz7noq"
      },
      "execution_count": 38,
      "outputs": []
    },
    {
      "cell_type": "code",
      "source": [
        "# 학습 함수 정의\n",
        "def train():\n",
        "  with tf.GradientTape() as g:\n",
        "    pred = hypothesis(X)\n",
        "    cost = cost_fn(pred, Y)\n",
        "  gradients = g.gradient(cost, [W, b])  # 비용 함수에 대한 W와 b의 그래디언트 계산\n",
        "\n",
        "  optimizer.apply_gradients(zip(gradients, [W, b]))  # 계산된 그래디언트를 사용하여 W와 b 업데이트"
      ],
      "metadata": {
        "id": "qw1s7V_M7t7z"
      },
      "execution_count": 29,
      "outputs": []
    },
    {
      "cell_type": "code",
      "source": [
        "# 모델 학습\n",
        "for step in range(2001):\n",
        "  train()\n",
        "\n",
        "  if step % 500 == 0:\n",
        "    pred = hypothesis(X)\n",
        "    cost = cost_fn(pred, Y)\n",
        "    print(\"step = {}, cost = {}, W = {}, b = {}\".format(step+1, cost, W.numpy(), b.numpy()))"
      ],
      "metadata": {
        "colab": {
          "base_uri": "https://localhost:8080/"
        },
        "id": "0lePkyLA7xdD",
        "outputId": "60cb104d-0f3b-44c2-ac57-e5484fbcef42"
      },
      "execution_count": 35,
      "outputs": [
        {
          "output_type": "stream",
          "name": "stdout",
          "text": [
            "step = 1, cost = 1.8855689631891437e-06, W = [1.0015949], b = [-0.00362546]\n",
            "step = 501, cost = 1.704356122900208e-07, W = [1.0004796], b = [-0.00109007]\n",
            "step = 1001, cost = 1.5565879252221748e-08, W = [1.0001452], b = [-0.00032938]\n",
            "step = 1501, cost = 1.4497013589576113e-09, W = [1.0000442], b = [-0.00010074]\n",
            "step = 2001, cost = 1.3801226828036306e-10, W = [1.0000138], b = [-3.0833202e-05]\n"
          ]
        }
      ]
    },
    {
      "cell_type": "code",
      "source": [
        "\n",
        "for step in range(2001):\n",
        "  train()\n",
        "\n",
        "  if step % 500 == 0:\n",
        "    pred = hypothesis(X)\n",
        "    cost = cost_fn(pred, Y)\n",
        "    print(\"step =\", \"%04d\" % (step+1), \"cost = {}, W = {}, b = {}\".format(cost, W.numpy(), b.numpy()))"
      ],
      "metadata": {
        "colab": {
          "base_uri": "https://localhost:8080/"
        },
        "id": "UhBLMp-e7zHG",
        "outputId": "72d757bf-70ee-4768-b65a-5d4edcdd0765"
      },
      "execution_count": 36,
      "outputs": [
        {
          "output_type": "stream",
          "name": "stdout",
          "text": [
            "step = 0001 cost = 1.3708738311191127e-10, W = [1.0000138], b = [-3.077002e-05]\n",
            "step = 0501 cost = 2.84228942465381e-11, W = [1.0000064], b = [-1.3641623e-05]\n",
            "step = 1001 cost = 1.4120852924459637e-11, W = [1.0000046], b = [-9.510994e-06]\n",
            "step = 1501 cost = 1.2278178473934531e-11, W = [1.0000043], b = [-8.612512e-06]\n",
            "step = 2001 cost = 1.2278178473934531e-11, W = [1.0000043], b = [-8.612512e-06]\n"
          ]
        }
      ]
    },
    {
      "cell_type": "code",
      "source": [
        "# matplotlib -> 결과 시각화\n",
        "import matplotlib.pyplot as plt\n",
        "import numpy as np"
      ],
      "metadata": {
        "id": "Fji7VjGH73Pq"
      },
      "execution_count": 31,
      "outputs": []
    },
    {
      "cell_type": "code",
      "source": [
        "plt.plot(X,Y, 'ro', label = 'Original Data') # 원본 데이터 -> 빨간 점\n",
        "plt.plot(X,np.array(W*Y+b), label='FittedLine') # 학습된 모델 -> 직선\n",
        "plt.legend()\n",
        "plt.xlabel(\"x\")\n",
        "plt.ylabel(\"y\")\n",
        "plt.show()"
      ],
      "metadata": {
        "colab": {
          "base_uri": "https://localhost:8080/",
          "height": 449
        },
        "id": "KHmewEFh766U",
        "outputId": "695aa260-4f24-4cd9-cc3c-9b425759004c"
      },
      "execution_count": 32,
      "outputs": [
        {
          "output_type": "display_data",
          "data": {
            "text/plain": [
              "<Figure size 640x480 with 1 Axes>"
            ],
            "image/png": "[encoded data removed]"
          },
          "metadata": {}
        }
      ]
    },
    {
      "cell_type": "code",
      "source": [
        "# 새로운 입력 값에 대한 예측\n",
        "x_test = [20]\n",
        "x_test_predict = np.array(x_test * W + b) # 새로운 입력 값 20에 대한 예측\n",
        "print('**************************')\n",
        "\n",
        "print('if 20 appear, then correct! \\n', x_test_predict) # 예측 결과 출력"
      ],
      "metadata": {
        "colab": {
          "base_uri": "https://localhost:8080/"
        },
        "id": "SWqfIdn77_gB",
        "outputId": "c874f79b-5934-4537-e8c7-49e0c2224715"
      },
      "execution_count": 37,
      "outputs": [
        {
          "output_type": "stream",
          "name": "stdout",
          "text": [
            "**************************\n",
            "if 20 appear, then correct! \n",
            " [20.000076]\n"
          ]
        }
      ]
    }
  ]
}